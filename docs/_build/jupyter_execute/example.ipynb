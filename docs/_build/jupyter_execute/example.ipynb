{
 "cells": [
  {
   "cell_type": "markdown",
   "metadata": {},
   "source": [
    "# Example usage\n",
    "\n",
    "To use `deduplication` in a project:"
   ]
  },
  {
   "cell_type": "code",
   "execution_count": 4,
   "metadata": {},
   "outputs": [
    {
     "name": "stdout",
     "output_type": "stream",
     "text": [
      "0.1.0\n"
     ]
    }
   ],
   "source": [
    "import deduplication\n",
    "from utils.utils import read_tsv\n",
    "from deduplication.LSH import LSH\n",
    "from deduplication.LSHImproved import LSHImproved\n",
    "from deduplication.LSHForest import LSHForest\n",
    "from deduplication.dedup import Baseline\n",
    "from utils.use_cases import collection_deduplication, nearest_neighbor_search\n",
    "\n",
    "print(deduplication.__version__)"
   ]
  },
  {
   "cell_type": "markdown",
   "metadata": {},
   "source": [
    "## LSH Baeline"
   ]
  },
  {
   "cell_type": "code",
   "execution_count": 22,
   "metadata": {},
   "outputs": [
    {
     "name": "stdout",
     "output_type": "stream",
     "text": [
      "1 [1]\n",
      "2 [2]\n",
      "3 [3]\n",
      "4 [4]\n",
      "5 [5]\n",
      "6 [6]\n",
      "7 [7]\n",
      "8 [8]\n",
      "9 [9]\n",
      "10 [10]\n",
      "11 [11]\n",
      "12 [12]\n",
      "13 [13]\n",
      "14 [14]\n",
      "15 [15]\n",
      "16 [16, 41, 299, 356, 745]\n",
      "17 [17]\n",
      "18 [18]\n",
      "19 [19]\n",
      "20 [20, 266, 972]\n"
     ]
    }
   ],
   "source": [
    "tsv_dict = read_tsv('../data/onek.tsv')\n",
    "\n",
    "num_hashes = 100\n",
    "num_bands = 20\n",
    "rows_per_band = 5\n",
    "k = 10\n",
    "\n",
    "lsh = LSH(num_hashes=num_hashes, num_bands=num_bands, rows_per_band=rows_per_band, k=k)\n",
    "signatures = lsh.compute_minhash_signatures(tsv_dict)\n",
    "clusters = collection_deduplication(lsh)\n",
    "\n",
    "for key, value in list(clusters.items())[:20]:\n",
    "    print(key, value)"
   ]
  },
  {
   "cell_type": "markdown",
   "metadata": {},
   "source": [
    "## LSH Multi Probe"
   ]
  },
  {
   "cell_type": "code",
   "execution_count": 23,
   "metadata": {},
   "outputs": [
    {
     "name": "stdout",
     "output_type": "stream",
     "text": [
      "1 [1]\n",
      "2 [2]\n",
      "3 [3]\n",
      "4 [4]\n",
      "5 [5]\n",
      "6 [6]\n",
      "7 [7]\n",
      "8 [8]\n",
      "9 [9]\n",
      "10 [10]\n",
      "11 [11]\n",
      "12 [12]\n",
      "13 [13]\n",
      "14 [14]\n",
      "15 [15]\n",
      "16 [16, 41, 299, 356, 745]\n",
      "17 [17]\n",
      "18 [18]\n",
      "19 [19]\n",
      "20 [20, 266, 972]\n"
     ]
    }
   ],
   "source": [
    "tsv_dict = read_tsv('../data/onek.tsv')\n",
    "\n",
    "num_hashes = 100\n",
    "num_bands = 20\n",
    "rows_per_band = 5\n",
    "k = 10\n",
    "\n",
    "lsh = LSHImproved(num_hashes=num_hashes, num_bands=num_bands, rows_per_band=rows_per_band, k=k)\n",
    "signatures = lsh.compute_minhash_signatures(tsv_dict)\n",
    "clusters = collection_deduplication(lsh)\n",
    "for key, value in list(clusters.items())[:20]:\n",
    "    print(key, value)"
   ]
  },
  {
   "cell_type": "markdown",
   "metadata": {},
   "source": [
    "## LSH Forest"
   ]
  },
  {
   "cell_type": "code",
   "execution_count": 24,
   "metadata": {},
   "outputs": [
    {
     "name": "stdout",
     "output_type": "stream",
     "text": [
      "1 [1]\n",
      "2 [2]\n",
      "3 [3]\n",
      "4 [4]\n",
      "5 [5]\n",
      "6 [6]\n",
      "7 [7]\n",
      "8 [8]\n",
      "9 [9]\n",
      "10 [10]\n",
      "11 [11]\n",
      "12 [12]\n",
      "13 [13]\n",
      "14 [14]\n",
      "15 [15]\n",
      "16 [16, 41, 299, 356, 745]\n",
      "17 [17]\n",
      "18 [18]\n",
      "19 [19]\n",
      "20 [20, 266, 972]\n"
     ]
    }
   ],
   "source": [
    "tsv_dict = read_tsv('../data/onek.tsv')\n",
    "\n",
    "num_hashes = 200\n",
    "num_bands = 10\n",
    "rows_per_band = 5\n",
    "num_trees = 4\n",
    "k = 10\n",
    "\n",
    "lsh = LSHForest(num_hashes=num_hashes, num_bands=num_bands, rows_per_band=rows_per_band, k=k, num_trees=num_trees)\n",
    "signatures = lsh.compute_minhash_signatures(tsv_dict)\n",
    "clusters = collection_deduplication(lsh)\n",
    "for key, value in list(clusters.items())[:20]:\n",
    "    print(key, value)"
   ]
  },
  {
   "cell_type": "markdown",
   "metadata": {},
   "source": [
    "## Baseline"
   ]
  },
  {
   "cell_type": "code",
   "execution_count": 25,
   "metadata": {},
   "outputs": [
    {
     "name": "stdout",
     "output_type": "stream",
     "text": [
      "1 [1]\n",
      "2 [2]\n",
      "3 [3]\n",
      "4 [4]\n",
      "5 [5]\n",
      "6 [6]\n",
      "7 [7]\n",
      "8 [8]\n",
      "9 [9]\n",
      "10 [10]\n",
      "11 [11]\n",
      "12 [12]\n",
      "13 [13]\n",
      "14 [14]\n",
      "15 [15]\n",
      "16 [16, 41, 299, 356, 745]\n",
      "17 [17]\n",
      "18 [18]\n",
      "19 [19]\n",
      "20 [20, 266, 972]\n"
     ]
    }
   ],
   "source": [
    "tsv_dict = read_tsv('../data/onek.tsv')\n",
    "base = Baseline()\n",
    "clusters = base.collection_deduplication(tsv_dict)\n",
    "for key, value in list(clusters.items())[:20]:\n",
    "    print(key, value)"
   ]
  },
  {
   "cell_type": "markdown",
   "metadata": {},
   "source": [
    "## How to run package from a terminal\n",
    "\n",
    "Arguments:\n",
    "- -d, --indir (str): Required. Directory path of the input file.\n",
    "- -t, --case (str): Required. Type of use case.\n",
    "- -s, --save (str): Optional. Whether to output results to a text file ('y' or 'n').\n",
    "- -e, --example (str): Optional. Document to query.\n",
    "- -n, --numhash (int): Optional. Number of hash functions to use.\n",
    "- -b, --numband (int): Optional. Number of bands.\n",
    "- -r, --row (int): Optional. Number of rows per band.\n",
    "- -k, --shinlen (int): Optional. Length of shingles.\n",
    "- -c, --treesize (int): Optional. Size of the tree.\n",
    "- -m, --method (str): Optional. Default is 'LSH'. Specifies the method to use. Options: 'baseline', 'LSH', 'LSH_mp', 'LSH_forest'.\n",
    "\n",
    "Terminal Code:\n",
    "- python -m deduplication -d './data/onek.tsv' -t 'deduplication' -s 'y'\n",
    "- python -m deduplication -d './data/threehundred.tsv' -t 'deduplication'\n",
    "- python -m deduplication -d './data/threehundred.tsv' -t 'deduplication' -m 'baseline'\n",
    "- python -m deduplication -d './data/hundred.tsv' -t 'ann' -e 'this is a blank statement'\n",
    "- python -m deduplication -d './data/onek.tsv' -t 'deduplication' -m \"LSH_forest\"\n",
    "- python -m deduplication -d './data/onek.tsv' -t 'deduplication' -m \"LSH_forest\" -n 200 -b 10 -r 5 -c 4"
   ]
  },
  {
   "cell_type": "markdown",
   "metadata": {},
   "source": []
  }
 ],
 "metadata": {
  "kernelspec": {
   "display_name": "base",
   "language": "python",
   "name": "python3"
  },
  "language_info": {
   "codemirror_mode": {
    "name": "ipython",
    "version": 3
   },
   "file_extension": ".py",
   "mimetype": "text/x-python",
   "name": "python",
   "nbconvert_exporter": "python",
   "pygments_lexer": "ipython3",
   "version": "3.12.4"
  }
 },
 "nbformat": 4,
 "nbformat_minor": 4
}