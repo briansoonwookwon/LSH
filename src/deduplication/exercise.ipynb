{
 "cells": [
  {
   "cell_type": "code",
   "execution_count": 1,
   "metadata": {},
   "outputs": [
    {
     "name": "stdout",
     "output_type": "stream",
     "text": [
      "Intel MKL WARNING: Support of Intel(R) Streaming SIMD Extensions 4.2 (Intel(R) SSE4.2) enabled only processors has been deprecated. Intel oneAPI Math Kernel Library 2025.0 will require Intel(R) Advanced Vector Extensions (Intel(R) AVX) instructions.\n",
      "Intel MKL WARNING: Support of Intel(R) Streaming SIMD Extensions 4.2 (Intel(R) SSE4.2) enabled only processors has been deprecated. Intel oneAPI Math Kernel Library 2025.0 will require Intel(R) Advanced Vector Extensions (Intel(R) AVX) instructions.\n"
     ]
    }
   ],
   "source": [
    "# Exercise 1\n",
    "\n",
    "import random\n",
    "import time\n",
    "from bloom_filter import BloomFilter, BloomFilter_KM_Opt, BloomFilter_Uni_Hash, BloomFilter_QF"
   ]
  },
  {
   "cell_type": "code",
   "execution_count": 2,
   "metadata": {},
   "outputs": [
    {
     "name": "stdout",
     "output_type": "stream",
     "text": [
      "False positive rate: 0.020709\n",
      "Time for 10^6 random lookups: 4.3739800453186035 seconds\n",
      "Time for 10^6 successful lookups: 16.355926990509033 seconds\n"
     ]
    }
   ],
   "source": [
    "# Initialize Bloom Filter\n",
    "bf = BloomFilter(n=10**7, f=0.02)\n",
    "\n",
    "# Insert 10 million uniformly random integers\n",
    "inserted_elements = [str(random.randint(0, 10**12)) for _ in range(10**7)]\n",
    "\n",
    "# Execure add function for each element\n",
    "for elem in inserted_elements:\n",
    "    bf.add(elem)\n",
    "\n",
    "# Save inserted elements to a file\n",
    "with open('inserted_elements.txt', 'w') as f:\n",
    "    for elem in inserted_elements:\n",
    "        f.write(elem + '\\n')\n",
    "\n",
    "# Perform 10^6 random lookups from the universe\n",
    "random_elements = [str(random.randint(0, 10**12)) for _ in range(10**6)]\n",
    "false_positives = 0\n",
    "\n",
    "start_time = time.time()\n",
    "for elem in random_elements:\n",
    "    if bf.query(elem):\n",
    "        false_positives += 1\n",
    "end_time = time.time()\n",
    "\n",
    "print(f\"False positive rate: {false_positives / 10**6}\")\n",
    "print(f\"Time for 10^6 random lookups: {end_time - start_time} seconds\")\n",
    "\n",
    "# Perform 10^6 successful lookups\n",
    "successful_lookups = random.sample(inserted_elements, 10**6)\n",
    "\n",
    "start_time = time.time()\n",
    "for elem in successful_lookups:\n",
    "    bf.query(elem)\n",
    "end_time = time.time()\n",
    "\n",
    "print(f\"Time for 10^6 successful lookups: {end_time - start_time} seconds\")"
   ]
  },
  {
   "cell_type": "code",
   "execution_count": 3,
   "metadata": {},
   "outputs": [
    {
     "name": "stdout",
     "output_type": "stream",
     "text": [
      "Original Bloom filter size: 814236 bits\n",
      "Larger Bloom filter size: 81423633 bits\n",
      "Smaller Bloom filter size: 8142 bits\n"
     ]
    }
   ],
   "source": [
    "# Exercise 2\n",
    "\n",
    "n_original = 100000\n",
    "f = 0.02\n",
    "\n",
    "bf_original = BloomFilter(n=n_original, f=f)\n",
    "print(f\"Original Bloom filter size: {bf_original.m} bits\")\n",
    "\n",
    "n_larger = n_original*100\n",
    "bf_larger = BloomFilter(n=n_larger, f=f)\n",
    "print(f\"Larger Bloom filter size: {bf_larger.m} bits\")\n",
    "\n",
    "n_smaller = n_original//100\n",
    "bf_smaller = BloomFilter(n=n_smaller, f=f)\n",
    "print(f\"Smaller Bloom filter size: {bf_smaller.m} bits\")"
   ]
  },
  {
   "cell_type": "code",
   "execution_count": 4,
   "metadata": {},
   "outputs": [],
   "source": [
    "# Exercise 3\n",
    "import math\n",
    "import mmh3\n",
    "import bitarray\n",
    "from nltk import ngrams\n",
    "\n",
    "class BloomFilterPartition:\n",
    "    def __init__(self, n: int, f: float):\n",
    "        \"\"\"\n",
    "        Creates a Bloom Filter object.\n",
    "        Args:\n",
    "        n: max # of elements\n",
    "        f: desired false positive rate\n",
    "        \"\"\"\n",
    "        self.n = n\n",
    "        self.f = f\n",
    "        # Size of bit array\n",
    "        self.m = int(-math.log(self.f) * self.n / (math.log(2)**2))\n",
    "        # Number of hash functions\n",
    "        self.k = int(self.m * math.log(2) / self.n)\n",
    "        #self.k = k\n",
    "        # the chunk size for the hash function\n",
    "        self.chunk = self.m // self.k\n",
    "        # number of bytes required to store bit array\n",
    "        self.n_bytes = (self.m + 7) // 8\n",
    "        # Create the bit array\n",
    "        self.bit_array = bitarray.bitarray(self.n_bytes * 8)\n",
    "        self.bit_array.setall(0)  # Set all bits to 0\n",
    "\n",
    "    def add(self, item: str):\n",
    "        \"\"\"\n",
    "        Adds an item to the bloom filter.\n",
    "        Args:\n",
    "        item: the string to add\n",
    "        \"\"\"\n",
    "        tokens = item.lower().split()\n",
    "        for i in range(self.k):\n",
    "            for n in range(1, 4): \n",
    "                n_grams = ngrams(tokens, n)\n",
    "                for piece in n_grams:\n",
    "                    index = mmh3.hash(\" \".join(piece), i) % self.chunk\n",
    "                    chunk_index = i * self.chunk + index\n",
    "                    self.bit_array[chunk_index] = 1\n",
    "\n",
    "    def query(self, item: str) -> bool:\n",
    "        \"\"\"\n",
    "        Checks if an item might be in the bloom filter (may have false positives).\n",
    "        Args:\n",
    "        item: the string to query\n",
    "        Returns:\n",
    "        bool: True if item might be in the bloom filter, False if it definitely isn't\n",
    "        \"\"\"\n",
    "        tokens = item.lower().split()\n",
    "        for i in range(self.k):\n",
    "            for n in range(1, 4):\n",
    "                n_grams = ngrams(tokens, n)\n",
    "                for piece in n_grams:\n",
    "                    index = mmh3.hash(\" \".join(piece), i) % self.chunk\n",
    "                    chunk_index = i * self.chunk + index\n",
    "                    if not self.bit_array[chunk_index]:\n",
    "                        return False\n",
    "        return True\n",
    "    \n"
   ]
  },
  {
   "cell_type": "code",
   "execution_count": 5,
   "metadata": {},
   "outputs": [
    {
     "name": "stdout",
     "output_type": "stream",
     "text": [
      "False positive rate: 0.020316\n",
      "Time for 10^6 random lookups: 4.462555885314941 seconds\n",
      "Time for 10^6 successful lookups: 16.634416103363037 seconds\n"
     ]
    }
   ],
   "source": [
    "# Initialize Bloom Filter\n",
    "bp = BloomFilterPartition(n=10**7, f=0.02)\n",
    "\n",
    "# Insert 10 million uniformly random integers\n",
    "inserted_elements = [str(random.randint(0, 10**12)) for _ in range(10**7)]\n",
    "\n",
    "# Execure add function for each element\n",
    "for elem in inserted_elements:\n",
    "    bp.add(elem)\n",
    "\n",
    "# # Save inserted elements to a file\n",
    "# with open('inserted_elements.txt', 'w') as f:\n",
    "#     for elem in inserted_elements:\n",
    "#         f.write(elem + '\\n')\n",
    "\n",
    "# Perform 10^6 random lookups from the universe\n",
    "random_elements = [str(random.randint(0, 10**12)) for _ in range(10**6)]\n",
    "false_positives = 0\n",
    "\n",
    "start_time = time.time()\n",
    "for elem in random_elements:\n",
    "    if bp.query(elem):\n",
    "        false_positives += 1\n",
    "end_time = time.time()\n",
    "\n",
    "print(f\"False positive rate: {false_positives / 10**6}\")\n",
    "print(f\"Time for 10^6 random lookups: {end_time - start_time} seconds\")\n",
    "\n",
    "# Perform 10^6 successful lookups\n",
    "successful_lookups = random.sample(inserted_elements, 10**6)\n",
    "\n",
    "start_time = time.time()\n",
    "for elem in successful_lookups:\n",
    "    bp.query(elem)\n",
    "end_time = time.time()\n",
    "\n",
    "print(f\"Time for 10^6 successful lookups: {end_time - start_time} seconds\")"
   ]
  },
  {
   "cell_type": "code",
   "execution_count": 6,
   "metadata": {},
   "outputs": [
    {
     "name": "stdout",
     "output_type": "stream",
     "text": [
      "False positive rate: 0.020043\n",
      "Time for 10^6 random lookups: 0.7476139068603516 seconds\n",
      "Time for 10^6 successful lookups: 1.6923739910125732 seconds\n"
     ]
    }
   ],
   "source": [
    "# Exercise 3 - Improvement 1 - KM Optimization\n",
    "\n",
    "# Initialize Bloom Filter\n",
    "bKM = BloomFilter_KM_Opt(n=10**7, f=0.02)\n",
    "\n",
    "# Insert 10 million uniformly random integers\n",
    "inserted_elements = [str(random.randint(0, 10**12)) for _ in range(10**7)]\n",
    "\n",
    "# Execure add function for each element\n",
    "for elem in inserted_elements:\n",
    "    bKM.add(elem)\n",
    "\n",
    "# # Save inserted elements to a file\n",
    "# with open('inserted_elements.txt', 'w') as f:\n",
    "#     for elem in inserted_elements:\n",
    "#         f.write(elem + '\\n')\n",
    "\n",
    "# Perform 10^6 random lookups from the universe\n",
    "random_elements = [str(random.randint(0, 10**12)) for _ in range(10**6)]\n",
    "false_positives = 0\n",
    "\n",
    "start_time = time.time()\n",
    "for elem in random_elements:\n",
    "    if bKM.query(elem):\n",
    "        false_positives += 1\n",
    "end_time = time.time()\n",
    "\n",
    "print(f\"False positive rate: {false_positives / 10**6}\")\n",
    "print(f\"Time for 10^6 random lookups: {end_time - start_time} seconds\")\n",
    "\n",
    "# Perform 10^6 successful lookups\n",
    "successful_lookups = random.sample(inserted_elements, 10**6)\n",
    "\n",
    "start_time = time.time()\n",
    "for elem in successful_lookups:\n",
    "    bKM.query(elem)\n",
    "end_time = time.time()\n",
    "\n",
    "print(f\"Time for 10^6 successful lookups: {end_time - start_time} seconds\")"
   ]
  },
  {
   "cell_type": "code",
   "execution_count": 8,
   "metadata": {},
   "outputs": [
    {
     "name": "stdout",
     "output_type": "stream",
     "text": [
      "False positive rate: 0.020468\n",
      "Time for 10^6 random lookups: 0.7106449604034424 seconds\n",
      "Time for 10^6 successful lookups: 1.7898399829864502 seconds\n"
     ]
    }
   ],
   "source": [
    "# Exercise 3 - Improvement 2 - Universal Hashing\n",
    "\n",
    "# Initialize Bloom Filter\n",
    "bUH = BloomFilter_Uni_Hash(n=10**7, f=0.02)\n",
    "\n",
    "# Insert 10 million uniformly random integers\n",
    "inserted_elements = [str(random.randint(0, 10**12)) for _ in range(10**7)]\n",
    "\n",
    "# Execure add function for each element\n",
    "for elem in inserted_elements:\n",
    "    bUH.add(elem)\n",
    "\n",
    "# # Save inserted elements to a file\n",
    "# with open('inserted_elements.txt', 'w') as f:\n",
    "#     for elem in inserted_elements:\n",
    "#         f.write(elem + '\\n')\n",
    "\n",
    "# Perform 10^6 random lookups from the universe\n",
    "random_elements = [str(random.randint(0, 10**12)) for _ in range(10**6)]\n",
    "false_positives = 0\n",
    "\n",
    "start_time = time.time()\n",
    "for elem in random_elements:\n",
    "    if bUH.query(elem):\n",
    "        false_positives += 1\n",
    "end_time = time.time()\n",
    "\n",
    "print(f\"False positive rate: {false_positives / 10**6}\")\n",
    "print(f\"Time for 10^6 random lookups: {end_time - start_time} seconds\")\n",
    "\n",
    "# Perform 10^6 successful lookups\n",
    "successful_lookups = random.sample(inserted_elements, 10**6)\n",
    "\n",
    "start_time = time.time()\n",
    "for elem in successful_lookups:\n",
    "    bUH.query(elem)\n",
    "end_time = time.time()\n",
    "\n",
    "print(f\"Time for 10^6 successful lookups: {end_time - start_time} seconds\")"
   ]
  },
  {
   "cell_type": "code",
   "execution_count": 2,
   "metadata": {},
   "outputs": [
    {
     "name": "stdout",
     "output_type": "stream",
     "text": [
      "False positive rate: 0.002222\n",
      "Time for 10^6 random lookups: 0.47637081146240234 seconds\n",
      "Time for 10^6 successful lookups: 0.6565229892730713 seconds\n"
     ]
    }
   ],
   "source": [
    "# Exercise 3 - Improvement 3 - Quotient Filter\n",
    "\n",
    "# Initialize Bloom Filter\n",
    "bQF = BloomFilter_QF(n=10**7, f=0.02)\n",
    "\n",
    "# Insert 10 million uniformly random integers\n",
    "inserted_elements = [str(random.randint(0, 10**12)) for _ in range(10**7)]\n",
    "\n",
    "# Execure add function for each element\n",
    "for elem in inserted_elements:\n",
    "    bQF.add(elem)\n",
    "\n",
    "# # Save inserted elements to a file\n",
    "# with open('inserted_elements.txt', 'w') as f:\n",
    "#     for elem in inserted_elements:\n",
    "#         f.write(elem + '\\n')\n",
    "\n",
    "# Perform 10^6 random lookups from the universe\n",
    "random_elements = [str(random.randint(0, 10**12)) for _ in range(10**6)]\n",
    "false_positives = 0\n",
    "\n",
    "start_time = time.time()\n",
    "for elem in random_elements:\n",
    "    if bQF.query(elem):\n",
    "        false_positives += 1\n",
    "end_time = time.time()\n",
    "\n",
    "print(f\"False positive rate: {false_positives / 10**6}\")\n",
    "print(f\"Time for 10^6 random lookups: {end_time - start_time} seconds\")\n",
    "\n",
    "# Perform 10^6 successful lookups\n",
    "successful_lookups = random.sample(inserted_elements, 10**6)\n",
    "\n",
    "start_time = time.time()\n",
    "for elem in successful_lookups:\n",
    "    bQF.query(elem)\n",
    "end_time = time.time()\n",
    "\n",
    "print(f\"Time for 10^6 successful lookups: {end_time - start_time} seconds\")"
   ]
  }
 ],
 "metadata": {
  "kernelspec": {
   "display_name": "dsan6700",
   "language": "python",
   "name": "python3"
  },
  "language_info": {
   "codemirror_mode": {
    "name": "ipython",
    "version": 3
   },
   "file_extension": ".py",
   "mimetype": "text/x-python",
   "name": "python",
   "nbconvert_exporter": "python",
   "pygments_lexer": "ipython3",
   "version": "3.11.10"
  }
 },
 "nbformat": 4,
 "nbformat_minor": 2
}
